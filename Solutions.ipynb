{
 "cells": [
  {
   "cell_type": "markdown",
   "id": "b30f8bb8",
   "metadata": {},
   "source": [
    "# Lab SQL 9\n",
    "In this lab we will find the customers who were active in consecutive months of May and June. Follow the steps to complete the analysis.\n"
   ]
  },
  {
   "cell_type": "markdown",
   "id": "a072551e",
   "metadata": {},
   "source": [
    "## Create a table `rentals_may` to store the data from rental table with information for the month of May."
   ]
  },
  {
   "cell_type": "code",
   "execution_count": 1,
   "id": "db60a00e",
   "metadata": {},
   "outputs": [],
   "source": [
    "#rentals_may\n",
    "#isn't this step redundant and more complex if we want a new table,\n",
    "#which is essentially just a copy of an already existant table, but then filtered on condition(s)? \n",
    "#or did i get these questions wrong?"
   ]
  },
  {
   "cell_type": "markdown",
   "id": "4d12ebd2",
   "metadata": {},
   "source": [
    "## Insert values in the table `rentals_may` using the table rental, filtering values only for the month of May.\n",
    " "
   ]
  },
  {
   "cell_type": "code",
   "execution_count": 2,
   "id": "d6d66dc1",
   "metadata": {},
   "outputs": [],
   "source": [
    "rentals_may = '''\n",
    "CREATE TABLE rentals_may AS\n",
    "    SELECT *\n",
    "    FROM rental\n",
    "    WHERE month(rental_date) = 5;\n",
    "    ''' "
   ]
  },
  {
   "cell_type": "markdown",
   "id": "ce9a6281",
   "metadata": {},
   "source": [
    "## Create a table `rentals_june` to store the data from rental table with information for the month of June.\n"
   ]
  },
  {
   "cell_type": "code",
   "execution_count": 3,
   "id": "ccc8b533",
   "metadata": {},
   "outputs": [],
   "source": [
    "#rentals_june\n",
    "#samesies, skipped it"
   ]
  },
  {
   "cell_type": "markdown",
   "id": "eaed7c1e",
   "metadata": {},
   "source": [
    "## Insert values in the table `rentals_june` using the table rental, filtering values only for the month of June.\n",
    " "
   ]
  },
  {
   "cell_type": "code",
   "execution_count": 4,
   "id": "75bd61e4",
   "metadata": {},
   "outputs": [],
   "source": [
    "rentals_june = '''\n",
    "CREATE TABLE rentals_june AS\n",
    "    SELECT *\n",
    "    FROM rental\n",
    "    WHERE month(rental_date) = 6;\n",
    "    ''' "
   ]
  },
  {
   "cell_type": "markdown",
   "id": "a43ae650",
   "metadata": {},
   "source": [
    "## Check the number of rentals for each customer for May.\n"
   ]
  },
  {
   "cell_type": "code",
   "execution_count": 5,
   "id": "8ad1d9c4",
   "metadata": {},
   "outputs": [],
   "source": [
    "query_may = '''\n",
    "SELECT customer_id, COUNT(*) AS may \n",
    "FROM rentals_may\n",
    "GROUP BY customer_id;\n",
    "'''"
   ]
  },
  {
   "cell_type": "markdown",
   "id": "59587fe4",
   "metadata": {},
   "source": [
    "## Check the number of rentals for each customer for June.\n",
    " "
   ]
  },
  {
   "cell_type": "code",
   "execution_count": 6,
   "id": "2a48a94f",
   "metadata": {},
   "outputs": [],
   "source": [
    "query_june = '''\n",
    "SELECT customer_id, COUNT(*) AS june\n",
    "FROM rentals_june\n",
    "GROUP BY customer_id;\n",
    "'''"
   ]
  },
  {
   "cell_type": "markdown",
   "id": "ecc7ad09",
   "metadata": {},
   "source": [
    "## Create a Python connection with SQL database and retrieve the results of the last two queries (also mentioned below) as dataframes:\n",
    "\n",
    "  - Check the number of rentals for each customer for May\n",
    "  - Check the number of rentals for each customer for June\n",
    "\n",
    "    **Hint**: You can store the results from the two queries in two separate dataframes.\n",
    " "
   ]
  },
  {
   "cell_type": "code",
   "execution_count": 7,
   "id": "9ede5084",
   "metadata": {},
   "outputs": [
    {
     "name": "stdout",
     "output_type": "stream",
     "text": [
      "········\n"
     ]
    }
   ],
   "source": [
    "import pymysql\n",
    "from sqlalchemy import create_engine\n",
    "import pandas as pd\n",
    "import getpass  # to get the password without showing the input\n",
    "password = getpass.getpass()"
   ]
  },
  {
   "cell_type": "code",
   "execution_count": 8,
   "id": "68074056",
   "metadata": {},
   "outputs": [
    {
     "data": {
      "text/plain": [
       "<sqlalchemy.engine.cursor.LegacyCursorResult at 0x7f8f5bb2aee0>"
      ]
     },
     "execution_count": 8,
     "metadata": {},
     "output_type": "execute_result"
    }
   ],
   "source": [
    "connection_string = 'mysql+pymysql://root:' + password + '@localhost/sakila'\n",
    "\n",
    "engine = create_engine(connection_string)\n",
    "\n",
    "engine.execute(\"DROP TABLE IF EXISTS rentals_may\")\n",
    "engine.execute(\"DROP TABLE IF EXISTS rentals_june\")\n",
    "engine.execute(rentals_may)\n",
    "engine.execute(rentals_june)"
   ]
  },
  {
   "cell_type": "code",
   "execution_count": 9,
   "id": "7d02dfbb",
   "metadata": {},
   "outputs": [
    {
     "data": {
      "text/html": [
       "<div>\n",
       "<style scoped>\n",
       "    .dataframe tbody tr th:only-of-type {\n",
       "        vertical-align: middle;\n",
       "    }\n",
       "\n",
       "    .dataframe tbody tr th {\n",
       "        vertical-align: top;\n",
       "    }\n",
       "\n",
       "    .dataframe thead th {\n",
       "        text-align: right;\n",
       "    }\n",
       "</style>\n",
       "<table border=\"1\" class=\"dataframe\">\n",
       "  <thead>\n",
       "    <tr style=\"text-align: right;\">\n",
       "      <th></th>\n",
       "      <th>customer_id</th>\n",
       "      <th>may</th>\n",
       "    </tr>\n",
       "  </thead>\n",
       "  <tbody>\n",
       "    <tr>\n",
       "      <th>0</th>\n",
       "      <td>130</td>\n",
       "      <td>2</td>\n",
       "    </tr>\n",
       "    <tr>\n",
       "      <th>1</th>\n",
       "      <td>459</td>\n",
       "      <td>1</td>\n",
       "    </tr>\n",
       "    <tr>\n",
       "      <th>2</th>\n",
       "      <td>408</td>\n",
       "      <td>3</td>\n",
       "    </tr>\n",
       "    <tr>\n",
       "      <th>3</th>\n",
       "      <td>333</td>\n",
       "      <td>1</td>\n",
       "    </tr>\n",
       "    <tr>\n",
       "      <th>4</th>\n",
       "      <td>222</td>\n",
       "      <td>5</td>\n",
       "    </tr>\n",
       "  </tbody>\n",
       "</table>\n",
       "</div>"
      ],
      "text/plain": [
       "   customer_id  may\n",
       "0          130    2\n",
       "1          459    1\n",
       "2          408    3\n",
       "3          333    1\n",
       "4          222    5"
      ]
     },
     "execution_count": 9,
     "metadata": {},
     "output_type": "execute_result"
    }
   ],
   "source": [
    "data_m = pd.read_sql_query(query_may, engine)\n",
    "data_m.head()"
   ]
  },
  {
   "cell_type": "code",
   "execution_count": 10,
   "id": "f23bbf1b",
   "metadata": {},
   "outputs": [
    {
     "data": {
      "text/html": [
       "<div>\n",
       "<style scoped>\n",
       "    .dataframe tbody tr th:only-of-type {\n",
       "        vertical-align: middle;\n",
       "    }\n",
       "\n",
       "    .dataframe tbody tr th {\n",
       "        vertical-align: top;\n",
       "    }\n",
       "\n",
       "    .dataframe thead th {\n",
       "        text-align: right;\n",
       "    }\n",
       "</style>\n",
       "<table border=\"1\" class=\"dataframe\">\n",
       "  <thead>\n",
       "    <tr style=\"text-align: right;\">\n",
       "      <th></th>\n",
       "      <th>customer_id</th>\n",
       "      <th>june</th>\n",
       "    </tr>\n",
       "  </thead>\n",
       "  <tbody>\n",
       "    <tr>\n",
       "      <th>0</th>\n",
       "      <td>416</td>\n",
       "      <td>5</td>\n",
       "    </tr>\n",
       "    <tr>\n",
       "      <th>1</th>\n",
       "      <td>516</td>\n",
       "      <td>6</td>\n",
       "    </tr>\n",
       "    <tr>\n",
       "      <th>2</th>\n",
       "      <td>239</td>\n",
       "      <td>5</td>\n",
       "    </tr>\n",
       "    <tr>\n",
       "      <th>3</th>\n",
       "      <td>285</td>\n",
       "      <td>3</td>\n",
       "    </tr>\n",
       "    <tr>\n",
       "      <th>4</th>\n",
       "      <td>310</td>\n",
       "      <td>6</td>\n",
       "    </tr>\n",
       "  </tbody>\n",
       "</table>\n",
       "</div>"
      ],
      "text/plain": [
       "   customer_id  june\n",
       "0          416     5\n",
       "1          516     6\n",
       "2          239     5\n",
       "3          285     3\n",
       "4          310     6"
      ]
     },
     "execution_count": 10,
     "metadata": {},
     "output_type": "execute_result"
    }
   ],
   "source": [
    "data_j = pd.read_sql_query(query_june, engine)\n",
    "data_j.head()"
   ]
  },
  {
   "cell_type": "markdown",
   "id": "44c79e39",
   "metadata": {},
   "source": [
    "## Write a function that checks if customer borrowed more or less films in the month of June as compared to May.\n",
    " \n",
    " **Hint**: For this part, you can create a join between the two dataframes created before, using the merge function available for pandas dataframes. Here is a link to the documentation for the [merge function](https://pandas.pydata.org/pandas-docs/stable/reference/api/pandas.DataFrame.merge.html)."
   ]
  },
  {
   "cell_type": "code",
   "execution_count": 11,
   "id": "f284b3ef",
   "metadata": {},
   "outputs": [
    {
     "data": {
      "text/html": [
       "<div>\n",
       "<style scoped>\n",
       "    .dataframe tbody tr th:only-of-type {\n",
       "        vertical-align: middle;\n",
       "    }\n",
       "\n",
       "    .dataframe tbody tr th {\n",
       "        vertical-align: top;\n",
       "    }\n",
       "\n",
       "    .dataframe thead th {\n",
       "        text-align: right;\n",
       "    }\n",
       "</style>\n",
       "<table border=\"1\" class=\"dataframe\">\n",
       "  <thead>\n",
       "    <tr style=\"text-align: right;\">\n",
       "      <th></th>\n",
       "      <th>customer_id</th>\n",
       "      <th>may</th>\n",
       "      <th>june</th>\n",
       "    </tr>\n",
       "  </thead>\n",
       "  <tbody>\n",
       "    <tr>\n",
       "      <th>0</th>\n",
       "      <td>130</td>\n",
       "      <td>2</td>\n",
       "      <td>23</td>\n",
       "    </tr>\n",
       "    <tr>\n",
       "      <th>1</th>\n",
       "      <td>459</td>\n",
       "      <td>1</td>\n",
       "      <td>7</td>\n",
       "    </tr>\n",
       "    <tr>\n",
       "      <th>2</th>\n",
       "      <td>408</td>\n",
       "      <td>3</td>\n",
       "      <td>3</td>\n",
       "    </tr>\n",
       "    <tr>\n",
       "      <th>3</th>\n",
       "      <td>333</td>\n",
       "      <td>1</td>\n",
       "      <td>4</td>\n",
       "    </tr>\n",
       "    <tr>\n",
       "      <th>4</th>\n",
       "      <td>222</td>\n",
       "      <td>5</td>\n",
       "      <td>2</td>\n",
       "    </tr>\n",
       "  </tbody>\n",
       "</table>\n",
       "</div>"
      ],
      "text/plain": [
       "   customer_id  may  june\n",
       "0          130    2    23\n",
       "1          459    1     7\n",
       "2          408    3     3\n",
       "3          333    1     4\n",
       "4          222    5     2"
      ]
     },
     "execution_count": 11,
     "metadata": {},
     "output_type": "execute_result"
    }
   ],
   "source": [
    "data_merged = pd.merge(data_m, data_j, on='customer_id')\n",
    "data_merged.head()\n",
    "#i could've also used outer join in this case, no?"
   ]
  },
  {
   "cell_type": "code",
   "execution_count": 12,
   "id": "a78065a7",
   "metadata": {},
   "outputs": [
    {
     "data": {
      "text/html": [
       "<div>\n",
       "<style scoped>\n",
       "    .dataframe tbody tr th:only-of-type {\n",
       "        vertical-align: middle;\n",
       "    }\n",
       "\n",
       "    .dataframe tbody tr th {\n",
       "        vertical-align: top;\n",
       "    }\n",
       "\n",
       "    .dataframe thead th {\n",
       "        text-align: right;\n",
       "    }\n",
       "</style>\n",
       "<table border=\"1\" class=\"dataframe\">\n",
       "  <thead>\n",
       "    <tr style=\"text-align: right;\">\n",
       "      <th></th>\n",
       "      <th>customer_id</th>\n",
       "      <th>may</th>\n",
       "      <th>june</th>\n",
       "      <th>compare</th>\n",
       "    </tr>\n",
       "  </thead>\n",
       "  <tbody>\n",
       "    <tr>\n",
       "      <th>0</th>\n",
       "      <td>130</td>\n",
       "      <td>2</td>\n",
       "      <td>23</td>\n",
       "      <td>more</td>\n",
       "    </tr>\n",
       "    <tr>\n",
       "      <th>1</th>\n",
       "      <td>459</td>\n",
       "      <td>1</td>\n",
       "      <td>7</td>\n",
       "      <td>more</td>\n",
       "    </tr>\n",
       "    <tr>\n",
       "      <th>2</th>\n",
       "      <td>408</td>\n",
       "      <td>3</td>\n",
       "      <td>3</td>\n",
       "      <td>same</td>\n",
       "    </tr>\n",
       "    <tr>\n",
       "      <th>3</th>\n",
       "      <td>333</td>\n",
       "      <td>1</td>\n",
       "      <td>4</td>\n",
       "      <td>more</td>\n",
       "    </tr>\n",
       "    <tr>\n",
       "      <th>4</th>\n",
       "      <td>222</td>\n",
       "      <td>5</td>\n",
       "      <td>2</td>\n",
       "      <td>less</td>\n",
       "    </tr>\n",
       "    <tr>\n",
       "      <th>...</th>\n",
       "      <td>...</td>\n",
       "      <td>...</td>\n",
       "      <td>...</td>\n",
       "      <td>...</td>\n",
       "    </tr>\n",
       "    <tr>\n",
       "      <th>507</th>\n",
       "      <td>431</td>\n",
       "      <td>1</td>\n",
       "      <td>7</td>\n",
       "      <td>more</td>\n",
       "    </tr>\n",
       "    <tr>\n",
       "      <th>508</th>\n",
       "      <td>191</td>\n",
       "      <td>2</td>\n",
       "      <td>6</td>\n",
       "      <td>more</td>\n",
       "    </tr>\n",
       "    <tr>\n",
       "      <th>509</th>\n",
       "      <td>351</td>\n",
       "      <td>1</td>\n",
       "      <td>3</td>\n",
       "      <td>more</td>\n",
       "    </tr>\n",
       "    <tr>\n",
       "      <th>510</th>\n",
       "      <td>10</td>\n",
       "      <td>1</td>\n",
       "      <td>5</td>\n",
       "      <td>more</td>\n",
       "    </tr>\n",
       "    <tr>\n",
       "      <th>511</th>\n",
       "      <td>136</td>\n",
       "      <td>1</td>\n",
       "      <td>1</td>\n",
       "      <td>same</td>\n",
       "    </tr>\n",
       "  </tbody>\n",
       "</table>\n",
       "<p>512 rows × 4 columns</p>\n",
       "</div>"
      ],
      "text/plain": [
       "     customer_id  may  june compare\n",
       "0            130    2    23    more\n",
       "1            459    1     7    more\n",
       "2            408    3     3    same\n",
       "3            333    1     4    more\n",
       "4            222    5     2    less\n",
       "..           ...  ...   ...     ...\n",
       "507          431    1     7    more\n",
       "508          191    2     6    more\n",
       "509          351    1     3    more\n",
       "510           10    1     5    more\n",
       "511          136    1     1    same\n",
       "\n",
       "[512 rows x 4 columns]"
      ]
     },
     "execution_count": 12,
     "metadata": {},
     "output_type": "execute_result"
    }
   ],
   "source": [
    "def compare(x):\n",
    "    if x['june'] > x['may']:\n",
    "        return 'more'\n",
    "    elif x['june'] < x['may']:\n",
    "        return 'less'\n",
    "    else:\n",
    "        return 'same'\n",
    "data_merged['compare'] = data_merged.apply(compare, axis=1)\n",
    "data_merged\n",
    "#how do i make my function more general? aka, how can i replace column specification in the compare function,\n",
    "#and then apply the function,\n",
    "#so it would also be applicable to comparing other columns (not the case now, but anyways useful to know)?"
   ]
  },
  {
   "cell_type": "code",
   "execution_count": null,
   "id": "3360dd59",
   "metadata": {},
   "outputs": [],
   "source": []
  }
 ],
 "metadata": {
  "kernelspec": {
   "display_name": "Python 3",
   "language": "python",
   "name": "python3"
  },
  "language_info": {
   "codemirror_mode": {
    "name": "ipython",
    "version": 3
   },
   "file_extension": ".py",
   "mimetype": "text/x-python",
   "name": "python",
   "nbconvert_exporter": "python",
   "pygments_lexer": "ipython3",
   "version": "3.8.8"
  },
  "toc": {
   "base_numbering": 1,
   "nav_menu": {},
   "number_sections": true,
   "sideBar": true,
   "skip_h1_title": false,
   "title_cell": "Table of Contents",
   "title_sidebar": "Contents",
   "toc_cell": false,
   "toc_position": {},
   "toc_section_display": true,
   "toc_window_display": false
  }
 },
 "nbformat": 4,
 "nbformat_minor": 5
}
